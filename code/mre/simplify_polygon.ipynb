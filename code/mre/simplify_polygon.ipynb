{
 "cells": [
  {
   "cell_type": "code",
   "execution_count": null,
   "metadata": {},
   "outputs": [],
   "source": [
    "import pandas as pd\n",
    "import geopandas as gpd\n",
    "import db_dtypes\n",
    "import matplotlib.pyplot as plt \n",
    "import folium\n",
    "from shapely.geometry import Point, Polygon, LineString\n",
    "from shapely import intersection\n",
    "%matplotlib inline\n"
   ]
  },
  {
   "cell_type": "code",
   "execution_count": null,
   "metadata": {},
   "outputs": [],
   "source": [
    "# create a simple polygon\n",
    "p1 = Polygon([(0, 0), (1, 0), (1.25, 0.4), (2.3, 0.7), (1, 1), (1,1.3), (0, 1)])\n",
    "#p2 = Polygon([(1, 0), (2, 0), (2, 1), (1, 1)])\n",
    "p2 = Polygon([(1.5, 0), (3, 0), (3.3,1.5), (3, 2), (1.5, 2)])\n",
    "\n",
    "attribs = {'id': ['A', 'B']}\n",
    "\n"
   ]
  },
  {
   "cell_type": "code",
   "execution_count": null,
   "metadata": {},
   "outputs": [],
   "source": [
    "g = gpd.GeoDataFrame(attribs, geometry=[p1,p2])"
   ]
  },
  {
   "cell_type": "code",
   "execution_count": null,
   "metadata": {},
   "outputs": [],
   "source": [
    "# visualize all polygons with their owner values\n",
    "fig, ax = plt.subplots(figsize=(10, 10))\n",
    "g.plot(ax=ax, edgecolor='black', facecolor='lightblue', alpha =0.7)\n",
    "\n",
    "# Annotating each polygon with the 'owner' value at its centroid\n",
    "for idx, row in g.iterrows():\n",
    "    centroid = row.geometry.centroid\n",
    "    ax.text(centroid.x, centroid.y, row['id'], horizontalalignment='center', fontsize=12, weight='bold')\n",
    "    x, y = row.geometry.exterior.xy\n",
    "    ax.plot(x, y, 'ro', markersize=3)\n",
    "plt.show()"
   ]
  },
  {
   "cell_type": "code",
   "execution_count": null,
   "metadata": {},
   "outputs": [],
   "source": [
    "# Perform a self-spatial join using the 'intersects' predicate\n",
    "overlaps = gpd.sjoin(g, g, how=\"inner\", predicate=\"overlaps\")\n",
    "\n",
    "# Filter out self-intersections\n",
    "overlaps = overlaps[overlaps.index != overlaps.index_right]\n",
    "\n",
    "overlaps"
   ]
  },
  {
   "cell_type": "code",
   "execution_count": null,
   "metadata": {},
   "outputs": [],
   "source": [
    "data_overlaps=gpd.GeoDataFrame(columns=['id','geometry'],geometry='geometry')\n",
    "\n",
    "for index, row in g.iterrows():\n",
    "    row_geom = row.geometry\n",
    "    row_id = row.id\n",
    "    data_temp1 = g.loc[g.id!=row_id]\n",
    "    print(f'data temp: {data_temp1.id}')\n",
    "    # check if intersection occured\n",
    "    overlaps=data_temp1[data_temp1.geometry.overlaps(row.geometry)]['id'].tolist()\n",
    "\n",
    "\n",
    "    if len(overlaps)>0:\n",
    "        temp_list=[]\n",
    "\n",
    "\n",
    "        # compare the area with threshold\n",
    "\n",
    "        \n",
    "        for y in overlaps:\n",
    "            overlap_geom = g.loc[g.id==y, 'geometry'].values[0]\n",
    "            intersect_geom = intersection(row_geom, overlap_geom)\n",
    "            #temp_area=gpd.overlay(,shapes.loc[shapes.id==row.id,],how='intersection')\n",
    "\n",
    "            #data_overlaps=gpd.GeoDataFrame(pd.concat([temp_area,data_overlaps],ignore_index=True),crs=shapes.crs)\n",
    "            #data_overlaps = pd.concat([data_overlaps,temp_area],ignore_index=True)\n",
    "\n",
    "    break"
   ]
  },
  {
   "cell_type": "code",
   "execution_count": null,
   "metadata": {},
   "outputs": [],
   "source": [
    "intersect_geom"
   ]
  },
  {
   "cell_type": "code",
   "execution_count": null,
   "metadata": {},
   "outputs": [],
   "source": [
    "fixed_geom = g.symmetric_difference(intersect_geom)\n"
   ]
  },
  {
   "cell_type": "code",
   "execution_count": null,
   "metadata": {},
   "outputs": [],
   "source": [
    "# visualize all polygons with their owner values\n",
    "fig, ax = plt.subplots(figsize=(10, 10))\n",
    "fixed_geom.plot(ax=ax, edgecolor='black', facecolor='lightblue', alpha =0.7)\n",
    "\n",
    "plt.show()"
   ]
  },
  {
   "cell_type": "code",
   "execution_count": null,
   "metadata": {},
   "outputs": [],
   "source": [
    "# Add extra vertices to help maintain overall shape of polygon\n",
    "new_seg_geom = fixed_geom.segmentize(max_segment_length=0.2)"
   ]
  },
  {
   "cell_type": "code",
   "execution_count": null,
   "metadata": {},
   "outputs": [],
   "source": [
    "new_seg_geom = new_seg_geom.buffer(50)\n",
    "new_seg_geom = new_seg_geom.buffer(-50)"
   ]
  },
  {
   "cell_type": "code",
   "execution_count": null,
   "metadata": {},
   "outputs": [],
   "source": [
    "# visualize all polygons with their owner values\n",
    "fig, ax = plt.subplots(figsize=(10, 10))\n",
    "new_seg_geom.plot(ax=ax, edgecolor='black', facecolor='lightblue', alpha =0.7)\n",
    "\n",
    "plt.show()"
   ]
  },
  {
   "cell_type": "code",
   "execution_count": null,
   "metadata": {},
   "outputs": [],
   "source": []
  },
  {
   "cell_type": "code",
   "execution_count": null,
   "metadata": {},
   "outputs": [],
   "source": []
  },
  {
   "cell_type": "code",
   "execution_count": null,
   "metadata": {},
   "outputs": [],
   "source": []
  },
  {
   "cell_type": "code",
   "execution_count": null,
   "metadata": {},
   "outputs": [],
   "source": [
    "# Add extra vertices to help maintain overall shape of polygon\n",
    "segment = g.segmentize(max_segment_length=0.3)\n",
    "\n",
    "g2 = gpd.GeoDataFrame(attribs, geometry=segment)\n",
    "\n",
    "g2=g2.set_crs(epsg=32610)\n",
    "crs = g2.crs\n",
    "unit = crs.axis_info[0].unit_name\n",
    "\n",
    "#g2['geometry']= g2.geometry.buffer(0.5,cap_style='flat')\n",
    "g2['geometry'] = g2.geometry.convex_hull\n",
    "#g2['geometry'] = g2.geometry.concave_hull()\n",
    "\n",
    "# visualize all polygons with their owner values\n",
    "fig, ax = plt.subplots(figsize=(10, 10))\n",
    "g2.plot(ax=ax, edgecolor='black', facecolor='lightblue')\n",
    "\n",
    "# Annotating each polygon with the 'owner' value at its centroid\n",
    "for idx, row in g2.iterrows():\n",
    "    x, y = row.geometry.exterior.xy\n",
    "    ax.plot(x, y, 'ro', markersize=3)\n",
    "\n"
   ]
  },
  {
   "cell_type": "code",
   "execution_count": null,
   "metadata": {},
   "outputs": [],
   "source": []
  },
  {
   "cell_type": "code",
   "execution_count": null,
   "metadata": {},
   "outputs": [],
   "source": [
    "simplify = g2.simplify(0.4)\n",
    "print(simplify)\n",
    "g3 = gpd.GeoDataFrame(attribs, geometry=simplify)\n",
    "\n",
    "# visualize all polygons with their owner values\n",
    "fig, ax = plt.subplots(figsize=(10, 10))\n",
    "g3.plot(ax=ax, edgecolor='black', facecolor='lightblue')\n",
    "\n",
    "# Annotating each polygon with the 'owner' value at its centroid\n",
    "for idx, row in g3.iterrows():\n",
    "    x, y = row.geometry.exterior.xy\n",
    "    ax.plot(x, y, 'ro', markersize=3)\n"
   ]
  },
  {
   "cell_type": "code",
   "execution_count": null,
   "metadata": {},
   "outputs": [],
   "source": [
    "g2['geometry']= g2.geometry.buffer(0.5,cap_style='flat')\n",
    "# visualize all polygons with their owner values\n",
    "fig, ax = plt.subplots(figsize=(10, 10))\n",
    "g2.plot(ax=ax, edgecolor='black', facecolor='lightblue')\n",
    "\n",
    "# Annotating each polygon with the 'owner' value at its centroid\n",
    "for idx, row in g2.iterrows():\n",
    "    x, y = row.geometry.exterior.xy\n",
    "    ax.plot(x, y, 'ro', markersize=3)"
   ]
  },
  {
   "cell_type": "code",
   "execution_count": null,
   "metadata": {},
   "outputs": [],
   "source": [
    "gdf = gpd.read_file(\"vexcel_selection.shp\")\n",
    "\n",
    "\n",
    "# Drop columns multiple column \n",
    "gdf = gdf.drop(['id_left', 'index_righ','id_right'], axis=1)\n",
    "gdf\n",
    "\n"
   ]
  },
  {
   "cell_type": "code",
   "execution_count": null,
   "metadata": {},
   "outputs": [],
   "source": [
    "# Get centroid locations\n",
    "bounds = gdf.total_bounds\n",
    "centroid_x = (bounds[0] + bounds[2]) / 2\n",
    "centroid_y = (bounds[1] + bounds[3]) / 2\n",
    "print(centroid_x, centroid_y)"
   ]
  },
  {
   "cell_type": "code",
   "execution_count": null,
   "metadata": {},
   "outputs": [],
   "source": [
    "# Perform a self-spatial join using the 'intersects' predicate\n",
    "overlaps = gpd.sjoin(gdf, gdf,how=\"inner\", predicate=\"overlaps\")\n",
    "\n",
    "# Filter out self-intersections\n",
    "overlaps = overlaps[overlaps.index != overlaps.index_right]\n",
    "\n",
    "overlaps"
   ]
  },
  {
   "cell_type": "code",
   "execution_count": null,
   "metadata": {},
   "outputs": [],
   "source": [
    "overlaps=overlaps.to_crs(epsg=32610)\n",
    "simplify = overlaps.simplify(0.8)\n",
    "print(simplify)\n",
    "g3 = gpd.GeoDataFrame(attribs, geometry=simplify)"
   ]
  },
  {
   "cell_type": "code",
   "execution_count": null,
   "metadata": {},
   "outputs": [],
   "source": [
    "# OpenStreetMap\n",
    "map = folium.Map(location=[centroid_y, centroid_x], tiles=\"OpenStreetMap\", zoom_start=25)\n",
    "folium.GeoJson(overlaps).add_to(map)\n",
    "#folium.GeoJson(g3).add_to(map)\n",
    "map"
   ]
  },
  {
   "cell_type": "code",
   "execution_count": null,
   "metadata": {},
   "outputs": [],
   "source": [
    "\n",
    "shapes = gpd.read_file(\"vexcel_selection.shp\")\n",
    "crs = shapes.crs\n",
    "\n",
    "# OpenStreetMap\n",
    "map = folium.Map(location=[centroid_y, centroid_x], tiles=\"OpenStreetMap\", zoom_start=25)\n",
    "folium.GeoJson(shapes).add_to(map)\n",
    "map"
   ]
  },
  {
   "cell_type": "code",
   "execution_count": null,
   "metadata": {},
   "outputs": [],
   "source": [
    "shapes.head()   \n"
   ]
  },
  {
   "cell_type": "code",
   "execution_count": null,
   "metadata": {},
   "outputs": [],
   "source": [
    "shapes = gpd.read_file(\"vexcel_selection.shp\")\n"
   ]
  },
  {
   "cell_type": "code",
   "execution_count": null,
   "metadata": {},
   "outputs": [],
   "source": [
    "\n",
    "data_overlaps=gpd.GeoDataFrame(columns=['id','geometry'],geometry='geometry', crs=shapes.crs)\n",
    "\n",
    "for index, row in shapes.iterrows():\n",
    "    row_geom = row.geometry\n",
    "    row_id = row.id\n",
    "    data_temp1 = shapes.loc[shapes.id!=row_id]\n",
    "    print(f'data temp: {data_temp1.id}')\n",
    "    # check if intersection occured\n",
    "    overlaps=data_temp1[data_temp1.geometry.overlaps(row.geometry)]['id'].tolist()\n",
    "\n",
    "\n",
    "    if len(overlaps)>0:\n",
    "        temp_list=[]\n",
    "\n",
    "\n",
    "        # compare the area with threshold\n",
    "\n",
    "        \n",
    "        for y in overlaps:\n",
    "            overlap_geom = shapes.loc[shapes.id==y, 'geometry'].values[0]\n",
    "            intersect_geom = intersection(row_geom, overlap_geom)\n",
    "            #temp_area=gpd.overlay(,shapes.loc[shapes.id==row.id,],how='intersection')\n",
    "\n",
    "            #data_overlaps=gpd.GeoDataFrame(pd.concat([temp_area,data_overlaps],ignore_index=True),crs=shapes.crs)\n",
    "            #data_overlaps = pd.concat([data_overlaps,temp_area],ignore_index=True)\n",
    "\n",
    "    break\n",
    "# data_overlaps.to_file('overlaps.shp')\n",
    "# # get unique of list id\n",
    "# data_overlaps['sorted']=data_overlaps.apply(lambda y: sorted([y['id_1'],y['id_2']]),axis=1)\n",
    "# #data_overlaps['sorted']=data_overlaps.sorted.apply(lambda y: ''.join(y))\n",
    "# #data_overlaps=data_overlaps.drop_duplicates('sorted')\n",
    "# #data_overlaps=data_overlaps.reset_index()[['id_1','id_2','geometry']]"
   ]
  },
  {
   "cell_type": "code",
   "execution_count": null,
   "metadata": {},
   "outputs": [],
   "source": [
    "intersect_geom"
   ]
  },
  {
   "cell_type": "code",
   "execution_count": null,
   "metadata": {},
   "outputs": [],
   "source": []
  },
  {
   "cell_type": "code",
   "execution_count": null,
   "metadata": {},
   "outputs": [],
   "source": []
  },
  {
   "cell_type": "code",
   "execution_count": null,
   "metadata": {},
   "outputs": [],
   "source": [
    "# OpenStreetMap\n",
    "map = folium.Map(location=[centroid_y, centroid_x], tiles=\"OpenStreetMap\", zoom_start=25)\n",
    "folium.GeoJson(intersect_geom).add_to(map)\n",
    "#folium.GeoJson(g3).add_to(map)\n",
    "map"
   ]
  },
  {
   "cell_type": "code",
   "execution_count": null,
   "metadata": {},
   "outputs": [],
   "source": []
  },
  {
   "cell_type": "code",
   "execution_count": null,
   "metadata": {},
   "outputs": [],
   "source": [
    "fixed_geom = shapes.symmetric_difference(intersect_geom)\n",
    "# OpenStreetMap\n",
    "map = folium.Map(location=[centroid_y, centroid_x], tiles=\"OpenStreetMap\", zoom_start=25)\n",
    "folium.GeoJson(fixed_geom).add_to(map)\n",
    "map\n",
    "\n",
    "#fixed_geom.to_file('fixed.shp')"
   ]
  },
  {
   "cell_type": "code",
   "execution_count": null,
   "metadata": {},
   "outputs": [],
   "source": [
    "fixed_geom = fixed_geom.reset_index()\n",
    "fixed_geom"
   ]
  },
  {
   "cell_type": "code",
   "execution_count": null,
   "metadata": {},
   "outputs": [],
   "source": [
    "from shapely.ops import unary_union"
   ]
  },
  {
   "cell_type": "code",
   "execution_count": null,
   "metadata": {},
   "outputs": [],
   "source": [
    "fixed_reproj = fixed_geom.to_crs(epsg=32610)\n",
    "fixed_reproj.crs"
   ]
  },
  {
   "cell_type": "code",
   "execution_count": null,
   "metadata": {},
   "outputs": [],
   "source": [
    "fixed_union = fixed_reproj.unary_union\n",
    "\n",
    "#fixed_geom_buff = new.buffer(50).buffer(-50)"
   ]
  },
  {
   "cell_type": "code",
   "execution_count": null,
   "metadata": {},
   "outputs": [],
   "source": [
    "[fixed_union]"
   ]
  },
  {
   "cell_type": "code",
   "execution_count": null,
   "metadata": {},
   "outputs": [],
   "source": [
    "fixed_union_gdf = gpd.GeoDataFrame(geometry=[fixed_union], crs=32610)\n",
    "fixed_union_gdf"
   ]
  },
  {
   "cell_type": "code",
   "execution_count": null,
   "metadata": {},
   "outputs": [],
   "source": [
    "fixed_union_gdf['geometry'] = fixed_union_gdf['geometry'].buffer(50)\n",
    "fixed_union_gdf['geometry'] = fixed_union_gdf['geometry'].buffer(-50)"
   ]
  },
  {
   "cell_type": "code",
   "execution_count": null,
   "metadata": {},
   "outputs": [],
   "source": [
    "# OpenStreetMap\n",
    "map = folium.Map(location=[centroid_y, centroid_x], tiles=\"OpenStreetMap\", zoom_start=25)\n",
    "folium.GeoJson(fixed_union_gdf).add_to(map)\n",
    "map"
   ]
  },
  {
   "cell_type": "code",
   "execution_count": null,
   "metadata": {},
   "outputs": [],
   "source": [
    "#new=fixed_geom.to_crs(epsg=32610)\n",
    "\n",
    "for index, row in shapes.iterrows():\n",
    "    geom = row['geometry']\n",
    "    geom.buffer(-1, join_style=\"mitre\").buffer(1, join_style=\"mitre\")"
   ]
  },
  {
   "cell_type": "code",
   "execution_count": null,
   "metadata": {},
   "outputs": [],
   "source": [
    "buffer2 = buff.buffer(-0.5, join_style=\"mitre\").buffer(5, join_style=\"mitre\")"
   ]
  },
  {
   "cell_type": "code",
   "execution_count": null,
   "metadata": {},
   "outputs": [],
   "source": [
    "# OpenStreetMap\n",
    "map = folium.Map(location=[centroid_y, centroid_x], tiles=\"OpenStreetMap\", zoom_start=25)\n",
    "folium.GeoJson(buffer2).add_to(map)\n",
    "map"
   ]
  },
  {
   "cell_type": "code",
   "execution_count": null,
   "metadata": {},
   "outputs": [],
   "source": []
  }
 ],
 "metadata": {
  "kernelspec": {
   "display_name": "csr_2024_v10",
   "language": "python",
   "name": "python3"
  },
  "language_info": {
   "codemirror_mode": {
    "name": "ipython",
    "version": 3
   },
   "file_extension": ".py",
   "mimetype": "text/x-python",
   "name": "python",
   "nbconvert_exporter": "python",
   "pygments_lexer": "ipython3",
   "version": "3.11.10"
  }
 },
 "nbformat": 4,
 "nbformat_minor": 2
}
