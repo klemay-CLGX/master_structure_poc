{
 "cells": [
  {
   "cell_type": "markdown",
   "metadata": {},
   "source": [
    "**Table of contents**<a id='toc0_'></a>    \n",
    "- [Master Structure POC](#toc1_)       \n",
    "  - [I: Introduction](#toc1_2_)    \n",
    "    - [The Concept](#toc1_2_1_)     \n",
    "  - [II. Identify Relationship Between Sources](#toc1_3_)    \n",
    "    - [Create Sources and Sttructures](#toc1_3_1_)    \n",
    "      - [Step 1: Create geodf of each source](#toc1_3_1_1_)    \n",
    "      - [Step 2: Calculate area of intersection](#toc1_3_1_2_)    \n",
    "      - [Step 3: ](#toc1_3_1_3_)    \n",
    "      - [Step 4: ](#toc1_3_1_4_)    \n",
    "      - [Step 5: Clustering the Data](#toc1_3_1_5_)    \n",
    "      - [Understanding The Variables](#toc1_3_1_6_)    \n",
    "  - [III. Results](#toc1_4_)    \n",
    "  - [IV. Cross-Region Clustering](#toc1_5_)    \n",
    "    - [Step 1: Identify Single Parcels within the Optimal Distance](#toc1_5_1_)    \n",
    "    - [Step 2: Identify Same-Owner Clusters in different regions within the Optimal Distance](#toc1_5_2_)    \n",
    "    - [Step 3: Dissolve and Reverse Buffer](#toc1_5_3_)    \n",
    "  - [V. Cross-Region Clustering Results](#toc1_6_)    \n",
    "      - [Final Thoughts:](#toc1_6_1_1_)    \n",
    "\n",
    "<!-- vscode-jupyter-toc-config\n",
    "    numbering=false\n",
    "    anchor=true\n",
    "    flat=false\n",
    "    minLevel=1\n",
    "    maxLevel=6\n",
    "    /vscode-jupyter-toc-config -->\n",
    "\n",
    "\n",
    "\n"
   ]
  },
  {
   "cell_type": "markdown",
   "metadata": {},
   "source": [
    "# <a id='toc1_'></a>[Master Structure POC](#toc0_)\n",
    "## <a id='toc1_1_'></a>[I. Introduction](#toc0_)\n",
    "### <a id='toc1_2_1_'></a>[The Concept](#toc0_)\n",
    "Establish a data asset for structure footprints nationwide, where each structure record is identified by a unique persistent identifier (structure ID). The structure ID for a given structure stays teh same across multiple vintages. The structure ID ties together multiple sources of structure footprints. Demolished structures are retained with inactive status.\n"
   ]
  },
  {
   "cell_type": "code",
   "execution_count": 1,
   "metadata": {},
   "outputs": [],
   "source": [
    "import pandas as pd\n",
    "import geopandas as gpd\n",
    "import db_dtypes\n",
    "import matplotlib.pyplot as plt \n",
    "import folium\n",
    "from shapely.geometry import Point, Polygon, LineString\n",
    "from shapely import intersection\n",
    "%matplotlib inline"
   ]
  },
  {
   "cell_type": "markdown",
   "metadata": {},
   "source": [
    "## <a id='toc1_1_'></a>[II. Identify Relationships Between Sources](#toc0_)\n",
    "### <a id='toc1_2_1_'></a>[Create Sources and Structures](#toc0_)\n",
    "#### <a id='toc1_2_1_'></a>[Step1: Create geodataframe of each source](#toc0_)"
   ]
  },
  {
   "cell_type": "code",
   "execution_count": 78,
   "metadata": {},
   "outputs": [],
   "source": [
    "# create a simple polygons that represent strctures for source 1\n",
    "p1 = Polygon([(0, 0), (1, 0), (1.5, 0.5), (1, 1), (0, 1)])\n",
    "p2 = Polygon([(5,0), (5,2), (3,2), (3,0)])\n",
    "p3 = Polygon([(0,2), (2,2), (2,4), (0,4)]) \n",
    "p4 = Polygon([(3,2.5),(4,2.5),(4,4),(3,4)])\n",
    "p5 = Polygon([(6,1),(7,1),(7,3), (6,3)])\n",
    "p10 = Polygon([(4.5,3), (5.5,3), (5.5,5), (4.5,5)])\n",
    "\n",
    "attribs = {'id': ['A', 'B', 'C', 'D','E','J'], 'source': ['1','1','1','1','1','1']}"
   ]
  },
  {
   "cell_type": "code",
   "execution_count": 100,
   "metadata": {},
   "outputs": [],
   "source": [
    "# create a simple polygons that represent strctures for source 2\n",
    "p6 = Polygon([(0, 0), (2, 0), (2.0,1.0), (0.5, 1.0)])\n",
    "p7 = Polygon([(0,2.5), (2,2.5), (2,4), (0,4)])\n",
    "p8 = Polygon([(5,0), (5,3.75), (3,3.75), (3,0)])\n",
    "p9 = Polygon([(7,0), (8,0), (8,4), (7,4)])\n",
    "\n",
    "\n",
    "attribs2 = {'id': ['F','G','H','I'], 'source': ['2','2','2','2']}"
   ]
  },
  {
   "cell_type": "code",
   "execution_count": 102,
   "metadata": {},
   "outputs": [],
   "source": [
    "g = gpd.GeoDataFrame(attribs, geometry=[p1,p2,p3,p4,p5,p10])\n",
    "g2 = gpd.GeoDataFrame(attribs2, geometry=[p6,p7,p8,p9])"
   ]
  },
  {
   "cell_type": "code",
   "execution_count": 103,
   "metadata": {},
   "outputs": [
    {
     "data": {
      "image/png": "[encoded data removed]",
      "text/plain": [
       "<Figure size 1000x1000 with 1 Axes>"
      ]
     },
     "metadata": {},
     "output_type": "display_data"
    }
   ],
   "source": [
    "# visualize all polygons with their owner values\n",
    "fig, ax = plt.subplots(figsize=(10, 10))\n",
    "g.plot(ax=ax, edgecolor='black', facecolor='lightblue', alpha =0.7)\n",
    "g2.plot(ax=ax, edgecolor='black', facecolor='lightcoral', alpha =0.7)   \n",
    "\n",
    "# Annotating each polygon with the 'owner' value at its centroid\n",
    "for idx, row in g.iterrows():\n",
    "    centroid = row.geometry.centroid\n",
    "    ax.text(centroid.x, centroid.y, row['id'], horizontalalignment='center', fontsize=8, weight='bold', color='darkblue')\n",
    "    x, y = row.geometry.exterior.xy\n",
    "    ax.plot(x, y, 'ro', markersize=3)\n",
    "\n",
    "for idx, row in g2.iterrows():\n",
    "    centroid = row.geometry.centroid\n",
    "    ax.text(centroid.x, centroid.y, row['id'], horizontalalignment='center', fontsize=8, weight='bold', color='darkred')\n",
    "    x, y = row.geometry.exterior.xy\n",
    "    ax.plot(x, y, 'bo', markersize=3)\n",
    "\n",
    "plt.show()"
   ]
  },
  {
   "cell_type": "markdown",
   "metadata": {},
   "source": [
    "### <a id='toc1_2_1_'></a>[Find 1:1 Relationships](#toc0_)"
   ]
  },
  {
   "cell_type": "code",
   "execution_count": 107,
   "metadata": {},
   "outputs": [],
   "source": [
    "# Perform the intersection\n",
    "intersection = gpd.overlay(g, g2, how='intersection', keep_geom_type=True)\n"
   ]
  },
  {
   "cell_type": "code",
   "execution_count": 118,
   "metadata": {},
   "outputs": [
    {
     "name": "stdout",
     "output_type": "stream",
     "text": [
      "  id_1 source_1 id_2 source_2\n",
      "0    A        1    F        2\n",
      "2    C        1    G        2\n"
     ]
    }
   ],
   "source": [
    "# Returns only 1:1 matches\n",
    "duplicates_1 = intersection.duplicated(subset=['id_1'], keep=False)\n",
    "duplicates_2 = intersection.duplicated(subset=['id_2'], keep=False)\n",
    "dups_both = intersection.duplicated(subset=['id_1','id_2'], keep=False)\n",
    "df_one_to_one = intersection[~(duplicates_1 | duplicates_2)]\n",
    "df_one_to_one_clean = df_one_to_one.drop('geometry', axis=1)\n",
    "print(df_one_to_one_clean)\n"
   ]
  },
  {
   "cell_type": "code",
   "execution_count": null,
   "metadata": {},
   "outputs": [
    {
     "data": {
      "text/html": [
       "<div>\n",
       "<style scoped>\n",
       "    .dataframe tbody tr th:only-of-type {\n",
       "        vertical-align: middle;\n",
       "    }\n",
       "\n",
       "    .dataframe tbody tr th {\n",
       "        vertical-align: top;\n",
       "    }\n",
       "\n",
       "    .dataframe thead th {\n",
       "        text-align: right;\n",
       "    }\n",
       "</style>\n",
       "<table border=\"1\" class=\"dataframe\">\n",
       "  <thead>\n",
       "    <tr style=\"text-align: right;\">\n",
       "      <th></th>\n",
       "      <th>id_1</th>\n",
       "      <th>source_1</th>\n",
       "      <th>id_2</th>\n",
       "      <th>source_2</th>\n",
       "      <th>id</th>\n",
       "      <th>source</th>\n",
       "      <th>geometry</th>\n",
       "    </tr>\n",
       "  </thead>\n",
       "  <tbody>\n",
       "    <tr>\n",
       "      <th>0</th>\n",
       "      <td>A</td>\n",
       "      <td>1</td>\n",
       "      <td>F</td>\n",
       "      <td>2</td>\n",
       "      <td>A</td>\n",
       "      <td>1</td>\n",
       "      <td>POLYGON ((0.00000 0.00000, 1.00000 0.00000, 1....</td>\n",
       "    </tr>\n",
       "    <tr>\n",
       "      <th>1</th>\n",
       "      <td>C</td>\n",
       "      <td>1</td>\n",
       "      <td>G</td>\n",
       "      <td>2</td>\n",
       "      <td>C</td>\n",
       "      <td>1</td>\n",
       "      <td>POLYGON ((0.00000 2.00000, 2.00000 2.00000, 2....</td>\n",
       "    </tr>\n",
       "  </tbody>\n",
       "</table>\n",
       "</div>"
      ],
      "text/plain": [
       "  id_1 source_1 id_2 source_2 id source  \\\n",
       "0    A        1    F        2  A      1   \n",
       "1    C        1    G        2  C      1   \n",
       "\n",
       "                                            geometry  \n",
       "0  POLYGON ((0.00000 0.00000, 1.00000 0.00000, 1....  \n",
       "1  POLYGON ((0.00000 2.00000, 2.00000 2.00000, 2....  "
      ]
     },
     "execution_count": 119,
     "metadata": {},
     "output_type": "execute_result"
    }
   ],
   "source": [
    "source1 = df_one_to_one_clean.merge(g, left_on='id_1', right_on='id')\n",
    "source1\n"
   ]
  },
  {
   "cell_type": "code",
   "execution_count": 132,
   "metadata": {},
   "outputs": [
    {
     "ename": "AttributeError",
     "evalue": "module 'geopandas' has no attribute 'to_numeric'",
     "output_type": "error",
     "traceback": [
      "\u001b[1;31m---------------------------------------------------------------------------\u001b[0m",
      "\u001b[1;31mAttributeError\u001b[0m                            Traceback (most recent call last)",
      "Cell \u001b[1;32mIn[132], line 2\u001b[0m\n\u001b[0;32m      1\u001b[0m source2 \u001b[38;5;241m=\u001b[39m df_one_to_one_clean\u001b[38;5;241m.\u001b[39mmerge(g2, left_on\u001b[38;5;241m=\u001b[39m\u001b[38;5;124m'\u001b[39m\u001b[38;5;124mid_2\u001b[39m\u001b[38;5;124m'\u001b[39m, right_on\u001b[38;5;241m=\u001b[39m\u001b[38;5;124m'\u001b[39m\u001b[38;5;124mid\u001b[39m\u001b[38;5;124m'\u001b[39m)\n\u001b[1;32m----> 2\u001b[0m source2 \u001b[38;5;241m=\u001b[39m source2\u001b[38;5;241m.\u001b[39mapply(\u001b[43mgpd\u001b[49m\u001b[38;5;241;43m.\u001b[39;49m\u001b[43mto_numeric\u001b[49m)\n\u001b[0;32m      3\u001b[0m source2\n",
      "\u001b[1;31mAttributeError\u001b[0m: module 'geopandas' has no attribute 'to_numeric'"
     ]
    }
   ],
   "source": [
    "source2 = df_one_to_one_clean.merge(g2, left_on='id_2', right_on='id')\n",
    "source2 = source2.apply(gpd.to_numeric)\n",
    "source2"
   ]
  },
  {
   "cell_type": "code",
   "execution_count": 131,
   "metadata": {},
   "outputs": [
    {
     "ename": "TypeError",
     "evalue": "no numeric data to plot",
     "output_type": "error",
     "traceback": [
      "\u001b[1;31m---------------------------------------------------------------------------\u001b[0m",
      "\u001b[1;31mTypeError\u001b[0m                                 Traceback (most recent call last)",
      "Cell \u001b[1;32mIn[131], line 4\u001b[0m\n\u001b[0;32m      2\u001b[0m fig, ax \u001b[38;5;241m=\u001b[39m plt\u001b[38;5;241m.\u001b[39msubplots(figsize\u001b[38;5;241m=\u001b[39m(\u001b[38;5;241m10\u001b[39m, \u001b[38;5;241m10\u001b[39m))\n\u001b[0;32m      3\u001b[0m \u001b[38;5;66;03m#source1.plot('geometry', ax=ax, edgecolor='black', facecolor='lightblue', alpha =0.7)\u001b[39;00m\n\u001b[1;32m----> 4\u001b[0m \u001b[43msource2\u001b[49m\u001b[38;5;241;43m.\u001b[39;49m\u001b[43mplot\u001b[49m\u001b[43m(\u001b[49m\u001b[43max\u001b[49m\u001b[38;5;241;43m=\u001b[39;49m\u001b[43max\u001b[49m\u001b[43m,\u001b[49m\u001b[43m \u001b[49m\u001b[43medgecolor\u001b[49m\u001b[38;5;241;43m=\u001b[39;49m\u001b[38;5;124;43m'\u001b[39;49m\u001b[38;5;124;43mblack\u001b[39;49m\u001b[38;5;124;43m'\u001b[39;49m\u001b[43m,\u001b[49m\u001b[43m \u001b[49m\u001b[43mfacecolor\u001b[49m\u001b[38;5;241;43m=\u001b[39;49m\u001b[38;5;124;43m'\u001b[39;49m\u001b[38;5;124;43mlightcoral\u001b[39;49m\u001b[38;5;124;43m'\u001b[39;49m\u001b[43m,\u001b[49m\u001b[43m \u001b[49m\u001b[43malpha\u001b[49m\u001b[43m \u001b[49m\u001b[38;5;241;43m=\u001b[39;49m\u001b[38;5;241;43m0.7\u001b[39;49m\u001b[43m)\u001b[49m\n\u001b[0;32m      5\u001b[0m \u001b[38;5;66;03m#intersection.plot(ax=ax, edgecolor='blue', facecolor='purple', alpha =0.8)\u001b[39;00m\n\u001b[0;32m      7\u001b[0m plt\u001b[38;5;241m.\u001b[39mshow()\n",
      "File \u001b[1;32md:\\Program_Files\\miniforge3\\envs\\csr_2024_v10\\Lib\\site-packages\\pandas\\plotting\\_core.py:1030\u001b[0m, in \u001b[0;36mPlotAccessor.__call__\u001b[1;34m(self, *args, **kwargs)\u001b[0m\n\u001b[0;32m   1027\u001b[0m             label_name \u001b[38;5;241m=\u001b[39m label_kw \u001b[38;5;129;01mor\u001b[39;00m data\u001b[38;5;241m.\u001b[39mcolumns\n\u001b[0;32m   1028\u001b[0m             data\u001b[38;5;241m.\u001b[39mcolumns \u001b[38;5;241m=\u001b[39m label_name\n\u001b[1;32m-> 1030\u001b[0m \u001b[38;5;28;01mreturn\u001b[39;00m \u001b[43mplot_backend\u001b[49m\u001b[38;5;241;43m.\u001b[39;49m\u001b[43mplot\u001b[49m\u001b[43m(\u001b[49m\u001b[43mdata\u001b[49m\u001b[43m,\u001b[49m\u001b[43m \u001b[49m\u001b[43mkind\u001b[49m\u001b[38;5;241;43m=\u001b[39;49m\u001b[43mkind\u001b[49m\u001b[43m,\u001b[49m\u001b[43m \u001b[49m\u001b[38;5;241;43m*\u001b[39;49m\u001b[38;5;241;43m*\u001b[39;49m\u001b[43mkwargs\u001b[49m\u001b[43m)\u001b[49m\n",
      "File \u001b[1;32md:\\Program_Files\\miniforge3\\envs\\csr_2024_v10\\Lib\\site-packages\\pandas\\plotting\\_matplotlib\\__init__.py:71\u001b[0m, in \u001b[0;36mplot\u001b[1;34m(data, kind, **kwargs)\u001b[0m\n\u001b[0;32m     69\u001b[0m         kwargs[\u001b[38;5;124m\"\u001b[39m\u001b[38;5;124max\u001b[39m\u001b[38;5;124m\"\u001b[39m] \u001b[38;5;241m=\u001b[39m \u001b[38;5;28mgetattr\u001b[39m(ax, \u001b[38;5;124m\"\u001b[39m\u001b[38;5;124mleft_ax\u001b[39m\u001b[38;5;124m\"\u001b[39m, ax)\n\u001b[0;32m     70\u001b[0m plot_obj \u001b[38;5;241m=\u001b[39m PLOT_CLASSES[kind](data, \u001b[38;5;241m*\u001b[39m\u001b[38;5;241m*\u001b[39mkwargs)\n\u001b[1;32m---> 71\u001b[0m \u001b[43mplot_obj\u001b[49m\u001b[38;5;241;43m.\u001b[39;49m\u001b[43mgenerate\u001b[49m\u001b[43m(\u001b[49m\u001b[43m)\u001b[49m\n\u001b[0;32m     72\u001b[0m plot_obj\u001b[38;5;241m.\u001b[39mdraw()\n\u001b[0;32m     73\u001b[0m \u001b[38;5;28;01mreturn\u001b[39;00m plot_obj\u001b[38;5;241m.\u001b[39mresult\n",
      "File \u001b[1;32md:\\Program_Files\\miniforge3\\envs\\csr_2024_v10\\Lib\\site-packages\\pandas\\plotting\\_matplotlib\\core.py:499\u001b[0m, in \u001b[0;36mMPLPlot.generate\u001b[1;34m(self)\u001b[0m\n\u001b[0;32m    497\u001b[0m \u001b[38;5;129m@final\u001b[39m\n\u001b[0;32m    498\u001b[0m \u001b[38;5;28;01mdef\u001b[39;00m \u001b[38;5;21mgenerate\u001b[39m(\u001b[38;5;28mself\u001b[39m) \u001b[38;5;241m-\u001b[39m\u001b[38;5;241m>\u001b[39m \u001b[38;5;28;01mNone\u001b[39;00m:\n\u001b[1;32m--> 499\u001b[0m     \u001b[38;5;28;43mself\u001b[39;49m\u001b[38;5;241;43m.\u001b[39;49m\u001b[43m_compute_plot_data\u001b[49m\u001b[43m(\u001b[49m\u001b[43m)\u001b[49m\n\u001b[0;32m    500\u001b[0m     fig \u001b[38;5;241m=\u001b[39m \u001b[38;5;28mself\u001b[39m\u001b[38;5;241m.\u001b[39mfig\n\u001b[0;32m    501\u001b[0m     \u001b[38;5;28mself\u001b[39m\u001b[38;5;241m.\u001b[39m_make_plot(fig)\n",
      "File \u001b[1;32md:\\Program_Files\\miniforge3\\envs\\csr_2024_v10\\Lib\\site-packages\\pandas\\plotting\\_matplotlib\\core.py:698\u001b[0m, in \u001b[0;36mMPLPlot._compute_plot_data\u001b[1;34m(self)\u001b[0m\n\u001b[0;32m    696\u001b[0m \u001b[38;5;66;03m# no non-numeric frames or series allowed\u001b[39;00m\n\u001b[0;32m    697\u001b[0m \u001b[38;5;28;01mif\u001b[39;00m is_empty:\n\u001b[1;32m--> 698\u001b[0m     \u001b[38;5;28;01mraise\u001b[39;00m \u001b[38;5;167;01mTypeError\u001b[39;00m(\u001b[38;5;124m\"\u001b[39m\u001b[38;5;124mno numeric data to plot\u001b[39m\u001b[38;5;124m\"\u001b[39m)\n\u001b[0;32m    700\u001b[0m \u001b[38;5;28mself\u001b[39m\u001b[38;5;241m.\u001b[39mdata \u001b[38;5;241m=\u001b[39m numeric_data\u001b[38;5;241m.\u001b[39mapply(\u001b[38;5;28mtype\u001b[39m(\u001b[38;5;28mself\u001b[39m)\u001b[38;5;241m.\u001b[39m_convert_to_ndarray)\n",
      "\u001b[1;31mTypeError\u001b[0m: no numeric data to plot"
     ]
    },
    {
     "data": {
      "image/png": "[encoded data removed]",
      "text/plain": [
       "<Figure size 1000x1000 with 1 Axes>"
      ]
     },
     "metadata": {},
     "output_type": "display_data"
    }
   ],
   "source": [
    "# visualizes the overlapping area\n",
    "fig, ax = plt.subplots(figsize=(10, 10))\n",
    "#source1.plot('geometry', ax=ax, edgecolor='black', facecolor='lightblue', alpha =0.7)\n",
    "source2.plot(ax=ax, edgecolor='black', facecolor='lightcoral', alpha =0.7)\n",
    "#intersection.plot(ax=ax, edgecolor='blue', facecolor='purple', alpha =0.8)\n",
    "\n",
    "plt.show()"
   ]
  },
  {
   "cell_type": "markdown",
   "metadata": {},
   "source": [
    "### <a id='toc1_2_1_'></a>[Find Other Relationships](#toc0_)"
   ]
  },
  {
   "cell_type": "code",
   "execution_count": 106,
   "metadata": {},
   "outputs": [
    {
     "data": {
      "text/html": [
       "<div>\n",
       "<style scoped>\n",
       "    .dataframe tbody tr th:only-of-type {\n",
       "        vertical-align: middle;\n",
       "    }\n",
       "\n",
       "    .dataframe tbody tr th {\n",
       "        vertical-align: top;\n",
       "    }\n",
       "\n",
       "    .dataframe thead th {\n",
       "        text-align: right;\n",
       "    }\n",
       "</style>\n",
       "<table border=\"1\" class=\"dataframe\">\n",
       "  <thead>\n",
       "    <tr style=\"text-align: right;\">\n",
       "      <th></th>\n",
       "      <th>id_1</th>\n",
       "      <th>source_1</th>\n",
       "      <th>id_2</th>\n",
       "      <th>source_2</th>\n",
       "      <th>geometry</th>\n",
       "      <th>area</th>\n",
       "    </tr>\n",
       "  </thead>\n",
       "  <tbody>\n",
       "    <tr>\n",
       "      <th>1</th>\n",
       "      <td>B</td>\n",
       "      <td>1</td>\n",
       "      <td>H</td>\n",
       "      <td>2</td>\n",
       "      <td>POLYGON ((5.00000 0.00000, 3.00000 0.00000, 3....</td>\n",
       "      <td>4.000</td>\n",
       "    </tr>\n",
       "    <tr>\n",
       "      <th>3</th>\n",
       "      <td>D</td>\n",
       "      <td>1</td>\n",
       "      <td>H</td>\n",
       "      <td>2</td>\n",
       "      <td>POLYGON ((4.00000 2.50000, 3.00000 2.50000, 3....</td>\n",
       "      <td>1.250</td>\n",
       "    </tr>\n",
       "    <tr>\n",
       "      <th>4</th>\n",
       "      <td>J</td>\n",
       "      <td>1</td>\n",
       "      <td>H</td>\n",
       "      <td>2</td>\n",
       "      <td>POLYGON ((4.50000 3.00000, 4.50000 3.75000, 5....</td>\n",
       "      <td>0.375</td>\n",
       "    </tr>\n",
       "  </tbody>\n",
       "</table>\n",
       "</div>"
      ],
      "text/plain": [
       "  id_1 source_1 id_2 source_2  \\\n",
       "1    B        1    H        2   \n",
       "3    D        1    H        2   \n",
       "4    J        1    H        2   \n",
       "\n",
       "                                            geometry   area  \n",
       "1  POLYGON ((5.00000 0.00000, 3.00000 0.00000, 3....  4.000  \n",
       "3  POLYGON ((4.00000 2.50000, 3.00000 2.50000, 3....  1.250  \n",
       "4  POLYGON ((4.50000 3.00000, 4.50000 3.75000, 5....  0.375  "
      ]
     },
     "execution_count": 106,
     "metadata": {},
     "output_type": "execute_result"
    }
   ],
   "source": [
    "remaining = intersection[(duplicates_1 | duplicates_2)]\n",
    "remaining"
   ]
  },
  {
   "cell_type": "markdown",
   "metadata": {},
   "source": [
    "## <a id='toc1_2_1_'></a>[Overlapping Area](#toc0_)"
   ]
  },
  {
   "cell_type": "code",
   "execution_count": null,
   "metadata": {},
   "outputs": [],
   "source": [
    "# Perform the intersection\n",
    "intersection = gpd.overlay(g, g2, how='intersection', keep_geom_type=True)\n",
    "\n",
    "# Calculate the area of the intersection\n",
    "intersection['area'] = intersection.geometry.area"
   ]
  },
  {
   "cell_type": "code",
   "execution_count": 108,
   "metadata": {},
   "outputs": [
    {
     "data": {
      "image/png": "[encoded data removed]",
      "text/plain": [
       "<Figure size 1000x1000 with 1 Axes>"
      ]
     },
     "metadata": {},
     "output_type": "display_data"
    }
   ],
   "source": [
    "# visualizes the overlapping area\n",
    "fig, ax = plt.subplots(figsize=(10, 10))\n",
    "g.plot(ax=ax, edgecolor='black', facecolor='lightblue', alpha =0.7)\n",
    "g2.plot(ax=ax, edgecolor='black', facecolor='lightcoral', alpha =0.7)\n",
    "intersection.plot(ax=ax, edgecolor='blue', facecolor='purple', alpha =0.8)\n",
    "\n",
    "plt.show()"
   ]
  },
  {
   "cell_type": "code",
   "execution_count": null,
   "metadata": {},
   "outputs": [],
   "source": []
  }
 ],
 "metadata": {
  "kernelspec": {
   "display_name": "csr_2024_v10",
   "language": "python",
   "name": "python3"
  },
  "language_info": {
   "codemirror_mode": {
    "name": "ipython",
    "version": 3
   },
   "file_extension": ".py",
   "mimetype": "text/x-python",
   "name": "python",
   "nbconvert_exporter": "python",
   "pygments_lexer": "ipython3",
   "version": "3.11.10"
  }
 },
 "nbformat": 4,
 "nbformat_minor": 2
}
