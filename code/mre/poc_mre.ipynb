{
 "cells": [
  {
   "cell_type": "markdown",
   "metadata": {},
   "source": [
    "**Table of contents**<a id='toc0_'></a>    \n",
    "- [Master Structure POC](#toc1_)       \n",
    "  - [I: Introduction](#toc1_2_)    \n",
    "    - [The Concept](#toc1_2_1_)     \n",
    "  - [II. Identify Relationship Between Sources](#toc1_3_)    \n",
    "    - [Create Sources and Sttructures](#toc1_3_1_)    \n",
    "      - [Step 1: Create geodf of each source](#toc1_3_1_1_)    \n",
    "      - [Step 2: Calculate area of intersection](#toc1_3_1_2_)    \n",
    "      - [Step 3: ](#toc1_3_1_3_)    \n",
    "      - [Step 4: ](#toc1_3_1_4_)    \n",
    "      - [Step 5: Clustering the Data](#toc1_3_1_5_)    \n",
    "      - [Understanding The Variables](#toc1_3_1_6_)    \n",
    "  - [III. Results](#toc1_4_)    \n",
    "  - [IV. Cross-Region Clustering](#toc1_5_)    \n",
    "    - [Step 1: Identify Single Parcels within the Optimal Distance](#toc1_5_1_)    \n",
    "    - [Step 2: Identify Same-Owner Clusters in different regions within the Optimal Distance](#toc1_5_2_)    \n",
    "    - [Step 3: Dissolve and Reverse Buffer](#toc1_5_3_)    \n",
    "  - [V. Cross-Region Clustering Results](#toc1_6_)    \n",
    "      - [Final Thoughts:](#toc1_6_1_1_)    \n",
    "\n",
    "<!-- vscode-jupyter-toc-config\n",
    "    numbering=false\n",
    "    anchor=true\n",
    "    flat=false\n",
    "    minLevel=1\n",
    "    maxLevel=6\n",
    "    /vscode-jupyter-toc-config -->\n",
    "\n",
    "\n",
    "\n"
   ]
  },
  {
   "cell_type": "markdown",
   "metadata": {},
   "source": [
    "# <a id='toc1_'></a>[Master Structure POC](#toc0_)\n",
    "## <a id='toc1_1_'></a>[I. Introduction](#toc0_)\n",
    "### <a id='toc1_2_1_'></a>[The Concept](#toc0_)\n",
    "Establish a data asset for structure footprints nationwide, where each structure record is identified by a unique persistent identifier (structure ID). The structure ID for a given structure stays teh same across multiple vintages. The structure ID ties together multiple sources of structure footprints. Demolished structures are retained with inactive status.\n"
   ]
  },
  {
   "cell_type": "code",
   "execution_count": 1,
   "metadata": {},
   "outputs": [],
   "source": [
    "import pandas as pd\n",
    "import geopandas as gpd\n",
    "import db_dtypes\n",
    "import matplotlib.pyplot as plt \n",
    "import folium\n",
    "from shapely.geometry import Point, Polygon, LineString\n",
    "from shapely import intersection\n",
    "%matplotlib inline"
   ]
  },
  {
   "cell_type": "markdown",
   "metadata": {},
   "source": [
    "## <a id='toc1_1_'></a>[II. Identify Relationships Between Sources](#toc0_)\n",
    "### <a id='toc1_2_1_'></a>[Create Sources and Structures](#toc0_)\n",
    "#### <a id='toc1_2_1_'></a>[Step1: Create geodataframe of each source](#toc0_)"
   ]
  },
  {
   "cell_type": "code",
   "execution_count": 78,
   "metadata": {},
   "outputs": [],
   "source": [
    "# create a simple polygons that represent strctures for source 1\n",
    "p1 = Polygon([(0, 0), (1, 0), (1.5, 0.5), (1, 1), (0, 1)])\n",
    "p2 = Polygon([(5,0), (5,2), (3,2), (3,0)])\n",
    "p3 = Polygon([(0,2), (2,2), (2,4), (0,4)]) \n",
    "p4 = Polygon([(3,2.5),(4,2.5),(4,4),(3,4)])\n",
    "p5 = Polygon([(6,1),(7,1),(7,3), (6,3)])\n",
    "p10 = Polygon([(4.5,3), (5.5,3), (5.5,5), (4.5,5)])\n",
    "\n",
    "attribs = {'id': ['A', 'B', 'C', 'D','E','J'], 'source': ['1','1','1','1','1','1']}"
   ]
  },
  {
   "cell_type": "code",
   "execution_count": 100,
   "metadata": {},
   "outputs": [],
   "source": [
    "# create a simple polygons that represent strctures for source 2\n",
    "p6 = Polygon([(0, 0), (2, 0), (2.0,1.0), (0.5, 1.0)])\n",
    "p7 = Polygon([(0,2.5), (2,2.5), (2,4), (0,4)])\n",
    "p8 = Polygon([(5,0), (5,3.75), (3,3.75), (3,0)])\n",
    "p9 = Polygon([(7,0), (8,0), (8,4), (7,4)])\n",
    "\n",
    "\n",
    "attribs2 = {'id': ['F','G','H','I'], 'source': ['2','2','2','2']}"
   ]
  },
  {
   "cell_type": "code",
   "execution_count": 102,
   "metadata": {},
   "outputs": [],
   "source": [
    "g = gpd.GeoDataFrame(attribs, geometry=[p1,p2,p3,p4,p5,p10])\n",
    "g2 = gpd.GeoDataFrame(attribs2, geometry=[p6,p7,p8,p9])"
   ]
  },
  {
   "cell_type": "code",
   "execution_count": null,
   "metadata": {},
   "outputs": [],
   "source": [
    "# visualize all polygons with their owner values\n",
    "fig, ax = plt.subplots(figsize=(10, 10))\n",
    "g.plot(ax=ax, edgecolor='black', facecolor='lightblue', alpha =0.7)\n",
    "g2.plot(ax=ax, edgecolor='black', facecolor='lightcoral', alpha =0.7)   \n",
    "\n",
    "# Annotating each polygon with the 'owner' value at its centroid\n",
    "for idx, row in g.iterrows():\n",
    "    centroid = row.geometry.centroid\n",
    "    ax.text(centroid.x, centroid.y, row['id'], horizontalalignment='center', fontsize=8, weight='bold', color='darkblue')\n",
    "    x, y = row.geometry.exterior.xy\n",
    "    ax.plot(x, y, 'ro', markersize=3)\n",
    "\n",
    "for idx, row in g2.iterrows():\n",
    "    centroid = row.geometry.centroid\n",
    "    ax.text(centroid.x, centroid.y, row['id'], horizontalalignment='center', fontsize=8, weight='bold', color='darkred')\n",
    "    x, y = row.geometry.exterior.xy\n",
    "    ax.plot(x, y, 'bo', markersize=3)\n",
    "\n",
    "plt.show()"
   ]
  },
  {
   "cell_type": "markdown",
   "metadata": {},
   "source": [
    "### <a id='toc1_2_1_'></a>[Find 1:1 Relationships](#toc0_)"
   ]
  },
  {
   "cell_type": "code",
   "execution_count": 107,
   "metadata": {},
   "outputs": [],
   "source": [
    "# Perform the intersection\n",
    "intersection = gpd.overlay(g, g2, how='intersection', keep_geom_type=True)\n"
   ]
  },
  {
   "cell_type": "code",
   "execution_count": null,
   "metadata": {},
   "outputs": [],
   "source": [
    "# Returns only 1:1 matches\n",
    "duplicates_1 = intersection.duplicated(subset=['id_1'], keep=False)\n",
    "duplicates_2 = intersection.duplicated(subset=['id_2'], keep=False)\n",
    "dups_both = intersection.duplicated(subset=['id_1','id_2'], keep=False)\n",
    "df_one_to_one = intersection[~(duplicates_1 | duplicates_2)]\n",
    "df_one_to_one_clean = df_one_to_one.drop('geometry', axis=1)\n",
    "print(df_one_to_one_clean)\n"
   ]
  },
  {
   "cell_type": "code",
   "execution_count": null,
   "metadata": {},
   "outputs": [],
   "source": [
    "source1 = df_one_to_one_clean.merge(g, left_on='id_1', right_on='id')\n",
    "source1\n"
   ]
  },
  {
   "cell_type": "code",
   "execution_count": null,
   "metadata": {},
   "outputs": [],
   "source": [
    "source2 = df_one_to_one_clean.merge(g2, left_on='id_2', right_on='id')\n",
    "source2 = source2.apply(gpd.to_numeric)\n",
    "source2"
   ]
  },
  {
   "cell_type": "code",
   "execution_count": null,
   "metadata": {},
   "outputs": [],
   "source": [
    "# visualizes the overlapping area\n",
    "fig, ax = plt.subplots(figsize=(10, 10))\n",
    "#source1.plot('geometry', ax=ax, edgecolor='black', facecolor='lightblue', alpha =0.7)\n",
    "source2.plot(ax=ax, edgecolor='black', facecolor='lightcoral', alpha =0.7)\n",
    "#intersection.plot(ax=ax, edgecolor='blue', facecolor='purple', alpha =0.8)\n",
    "\n",
    "plt.show()"
   ]
  },
  {
   "cell_type": "markdown",
   "metadata": {},
   "source": [
    "### <a id='toc1_2_1_'></a>[Find Other Relationships](#toc0_)"
   ]
  },
  {
   "cell_type": "code",
   "execution_count": null,
   "metadata": {},
   "outputs": [],
   "source": [
    "remaining = intersection[(duplicates_1 | duplicates_2)]\n",
    "remaining"
   ]
  },
  {
   "cell_type": "markdown",
   "metadata": {},
   "source": [
    "## <a id='toc1_2_1_'></a>[Overlapping Area](#toc0_)"
   ]
  },
  {
   "cell_type": "code",
   "execution_count": null,
   "metadata": {},
   "outputs": [],
   "source": [
    "# Perform the intersection\n",
    "intersection = gpd.overlay(g, g2, how='intersection', keep_geom_type=True)\n",
    "\n",
    "# Calculate the area of the intersection\n",
    "intersection['area'] = intersection.geometry.area"
   ]
  },
  {
   "cell_type": "code",
   "execution_count": null,
   "metadata": {},
   "outputs": [],
   "source": [
    "# visualizes the overlapping area\n",
    "fig, ax = plt.subplots(figsize=(10, 10))\n",
    "g.plot(ax=ax, edgecolor='black', facecolor='lightblue', alpha =0.7)\n",
    "g2.plot(ax=ax, edgecolor='black', facecolor='lightcoral', alpha =0.7)\n",
    "intersection.plot(ax=ax, edgecolor='blue', facecolor='purple', alpha =0.8)\n",
    "\n",
    "plt.show()"
   ]
  },
  {
   "cell_type": "code",
   "execution_count": null,
   "metadata": {},
   "outputs": [],
   "source": []
  }
 ],
 "metadata": {
  "kernelspec": {
   "display_name": "csr_2024_v10",
   "language": "python",
   "name": "python3"
  },
  "language_info": {
   "codemirror_mode": {
    "name": "ipython",
    "version": 3
   },
   "file_extension": ".py",
   "mimetype": "text/x-python",
   "name": "python",
   "nbconvert_exporter": "python",
   "pygments_lexer": "ipython3",
   "version": "3.11.10"
  }
 },
 "nbformat": 4,
 "nbformat_minor": 2
}
